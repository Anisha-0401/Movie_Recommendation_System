{
 "cells": [
  {
   "cell_type": "code",
   "execution_count": 2,
   "id": "a3e703cd-1dd2-49eb-9925-dfca9db2d205",
   "metadata": {},
   "outputs": [],
   "source": [
    "import pandas as pd\n",
    "import numpy as np\n",
    "import difflib\n",
    "from sklearn.feature_extraction.text import TfidfVectorizer\n",
    "from sklearn.metrics.pairwise import cosine_similarity\n",
    "import ast"
   ]
  },
  {
   "cell_type": "code",
   "execution_count": 4,
   "id": "0353c186-871c-49fc-ba9e-bde5764ad333",
   "metadata": {},
   "outputs": [
    {
     "name": "stdout",
     "output_type": "stream",
     "text": [
      "      budget                                             genres  \\\n",
      "0  237000000  [{\"id\": 28, \"name\": \"Action\"}, {\"id\": 12, \"nam...   \n",
      "1  300000000  [{\"id\": 12, \"name\": \"Adventure\"}, {\"id\": 14, \"...   \n",
      "2  245000000  [{\"id\": 28, \"name\": \"Action\"}, {\"id\": 12, \"nam...   \n",
      "3  250000000  [{\"id\": 28, \"name\": \"Action\"}, {\"id\": 80, \"nam...   \n",
      "4  260000000  [{\"id\": 28, \"name\": \"Action\"}, {\"id\": 12, \"nam...   \n",
      "\n",
      "                                       homepage      id  \\\n",
      "0                   http://www.avatarmovie.com/   19995   \n",
      "1  http://disney.go.com/disneypictures/pirates/     285   \n",
      "2   http://www.sonypictures.com/movies/spectre/  206647   \n",
      "3            http://www.thedarkknightrises.com/   49026   \n",
      "4          http://movies.disney.com/john-carter   49529   \n",
      "\n",
      "                                            keywords original_language  \\\n",
      "0  [{\"id\": 1463, \"name\": \"culture clash\"}, {\"id\":...                en   \n",
      "1  [{\"id\": 270, \"name\": \"ocean\"}, {\"id\": 726, \"na...                en   \n",
      "2  [{\"id\": 470, \"name\": \"spy\"}, {\"id\": 818, \"name...                en   \n",
      "3  [{\"id\": 849, \"name\": \"dc comics\"}, {\"id\": 853,...                en   \n",
      "4  [{\"id\": 818, \"name\": \"based on novel\"}, {\"id\":...                en   \n",
      "\n",
      "                             original_title  \\\n",
      "0                                    Avatar   \n",
      "1  Pirates of the Caribbean: At World's End   \n",
      "2                                   Spectre   \n",
      "3                     The Dark Knight Rises   \n",
      "4                               John Carter   \n",
      "\n",
      "                                            overview  popularity  \\\n",
      "0  In the 22nd century, a paraplegic Marine is di...  150.437577   \n",
      "1  Captain Barbossa, long believed to be dead, ha...  139.082615   \n",
      "2  A cryptic message from Bond’s past sends him o...  107.376788   \n",
      "3  Following the death of District Attorney Harve...  112.312950   \n",
      "4  John Carter is a war-weary, former military ca...   43.926995   \n",
      "\n",
      "                                production_companies  \\\n",
      "0  [{\"name\": \"Ingenious Film Partners\", \"id\": 289...   \n",
      "1  [{\"name\": \"Walt Disney Pictures\", \"id\": 2}, {\"...   \n",
      "2  [{\"name\": \"Columbia Pictures\", \"id\": 5}, {\"nam...   \n",
      "3  [{\"name\": \"Legendary Pictures\", \"id\": 923}, {\"...   \n",
      "4        [{\"name\": \"Walt Disney Pictures\", \"id\": 2}]   \n",
      "\n",
      "                                production_countries release_date     revenue  \\\n",
      "0  [{\"iso_3166_1\": \"US\", \"name\": \"United States o...   2009-12-10  2787965087   \n",
      "1  [{\"iso_3166_1\": \"US\", \"name\": \"United States o...   2007-05-19   961000000   \n",
      "2  [{\"iso_3166_1\": \"GB\", \"name\": \"United Kingdom\"...   2015-10-26   880674609   \n",
      "3  [{\"iso_3166_1\": \"US\", \"name\": \"United States o...   2012-07-16  1084939099   \n",
      "4  [{\"iso_3166_1\": \"US\", \"name\": \"United States o...   2012-03-07   284139100   \n",
      "\n",
      "   runtime                                   spoken_languages    status  \\\n",
      "0    162.0  [{\"iso_639_1\": \"en\", \"name\": \"English\"}, {\"iso...  Released   \n",
      "1    169.0           [{\"iso_639_1\": \"en\", \"name\": \"English\"}]  Released   \n",
      "2    148.0  [{\"iso_639_1\": \"fr\", \"name\": \"Fran\\u00e7ais\"},...  Released   \n",
      "3    165.0           [{\"iso_639_1\": \"en\", \"name\": \"English\"}]  Released   \n",
      "4    132.0           [{\"iso_639_1\": \"en\", \"name\": \"English\"}]  Released   \n",
      "\n",
      "                                          tagline  \\\n",
      "0                     Enter the World of Pandora.   \n",
      "1  At the end of the world, the adventure begins.   \n",
      "2                           A Plan No One Escapes   \n",
      "3                                 The Legend Ends   \n",
      "4            Lost in our world, found in another.   \n",
      "\n",
      "                                      title  vote_average  vote_count  \n",
      "0                                    Avatar           7.2       11800  \n",
      "1  Pirates of the Caribbean: At World's End           6.9        4500  \n",
      "2                                   Spectre           6.3        4466  \n",
      "3                     The Dark Knight Rises           7.6        9106  \n",
      "4                               John Carter           6.1        2124  \n",
      "   movie_id                                     title  \\\n",
      "0     19995                                    Avatar   \n",
      "1       285  Pirates of the Caribbean: At World's End   \n",
      "2    206647                                   Spectre   \n",
      "3     49026                     The Dark Knight Rises   \n",
      "4     49529                               John Carter   \n",
      "\n",
      "                                                cast  \\\n",
      "0  [{\"cast_id\": 242, \"character\": \"Jake Sully\", \"...   \n",
      "1  [{\"cast_id\": 4, \"character\": \"Captain Jack Spa...   \n",
      "2  [{\"cast_id\": 1, \"character\": \"James Bond\", \"cr...   \n",
      "3  [{\"cast_id\": 2, \"character\": \"Bruce Wayne / Ba...   \n",
      "4  [{\"cast_id\": 5, \"character\": \"John Carter\", \"c...   \n",
      "\n",
      "                                                crew  \n",
      "0  [{\"credit_id\": \"52fe48009251416c750aca23\", \"de...  \n",
      "1  [{\"credit_id\": \"52fe4232c3a36847f800b579\", \"de...  \n",
      "2  [{\"credit_id\": \"54805967c3a36829b5002c41\", \"de...  \n",
      "3  [{\"credit_id\": \"52fe4781c3a36847f81398c3\", \"de...  \n",
      "4  [{\"credit_id\": \"52fe479ac3a36847f813eaa3\", \"de...  \n"
     ]
    }
   ],
   "source": [
    "# Load the movie and credits datasets\n",
    "movies_df = pd.read_csv(\"tmdb_5000_movies.csv\")\n",
    "credits_df = pd.read_csv(\"tmdb_5000_credits.csv\")\n",
    "\n",
    "# Display first few rows of both datasets\n",
    "print(movies_df.head())\n",
    "print(credits_df.head())\n"
   ]
  },
  {
   "cell_type": "code",
   "execution_count": 20,
   "id": "5a8c11c2-477d-488d-8c26-d220554efa8f",
   "metadata": {},
   "outputs": [
    {
     "name": "stdout",
     "output_type": "stream",
     "text": [
      "Movies Dataset Columns: Index(['budget', 'genres', 'homepage', 'id', 'keywords', 'original_language',\n",
      "       'original_title', 'overview', 'popularity', 'production_companies',\n",
      "       'production_countries', 'release_date', 'revenue', 'runtime',\n",
      "       'spoken_languages', 'status', 'tagline', 'title', 'vote_average',\n",
      "       'vote_count'],\n",
      "      dtype='object')\n",
      "Credits Dataset Columns: Index(['movie_id', 'title', 'cast', 'crew'], dtype='object')\n",
      "Index(['budget', 'genres', 'homepage', 'id', 'keywords', 'original_language',\n",
      "       'original_title', 'overview', 'popularity', 'production_companies',\n",
      "       'production_countries', 'release_date', 'revenue', 'runtime',\n",
      "       'spoken_languages', 'status', 'tagline', 'title_x', 'vote_average',\n",
      "       'vote_count', 'title_y', 'cast', 'crew'],\n",
      "      dtype='object')\n",
      "<class 'pandas.core.frame.DataFrame'>\n",
      "Index: 4800 entries, 0 to 4802\n",
      "Data columns (total 6 columns):\n",
      " #   Column    Non-Null Count  Dtype \n",
      "---  ------    --------------  ----- \n",
      " 0   id        4800 non-null   int64 \n",
      " 1   title     4800 non-null   object\n",
      " 2   overview  4800 non-null   object\n",
      " 3   genres    4800 non-null   object\n",
      " 4   cast      4800 non-null   object\n",
      " 5   crew      4800 non-null   object\n",
      "dtypes: int64(1), object(5)\n",
      "memory usage: 262.5+ KB\n"
     ]
    }
   ],
   "source": [
    "import pandas as pd\n",
    "\n",
    "# Load datasets\n",
    "movies_df = pd.read_csv(\"tmdb_5000_movies.csv\")\n",
    "credits_df = pd.read_csv(\"tmdb_5000_credits.csv\")\n",
    "\n",
    "# Print column names to check if 'id' exists\n",
    "print(\"Movies Dataset Columns:\", movies_df.columns)\n",
    "print(\"Credits Dataset Columns:\", credits_df.columns)\n",
    "\n",
    "# Rename 'movie_id' to 'id' in credits_df\n",
    "credits_df.rename(columns={'movie_id': 'id'}, inplace=True)\n",
    "\n",
    "# Merge on 'id'\n",
    "movies_df = movies_df.merge(credits_df, on='id', how='inner')\n",
    "\n",
    "# Print columns to verify\n",
    "print(movies_df.columns)\n",
    "\n",
    "# Rename 'title_x' as 'title' if needed\n",
    "if 'title_x' in movies_df.columns:\n",
    "    movies_df.rename(columns={'title_x': 'title'}, inplace=True)\n",
    "\n",
    "# Keep only required columns\n",
    "movies_df = movies_df[['id', 'title', 'overview', 'genres', 'cast', 'crew']]\n",
    "\n",
    "# Drop missing values\n",
    "movies_df.dropna(inplace=True)\n",
    "\n",
    "# Display dataset info\n",
    "movies_df.info()\n"
   ]
  },
  {
   "cell_type": "code",
   "execution_count": 22,
   "id": "ceee9dd0-f93c-4827-bcda-4a4da17881d6",
   "metadata": {},
   "outputs": [
    {
     "name": "stdout",
     "output_type": "stream",
     "text": [
      "                                      title  \\\n",
      "0                                    Avatar   \n",
      "1  Pirates of the Caribbean: At World's End   \n",
      "2                                   Spectre   \n",
      "3                     The Dark Knight Rises   \n",
      "4                               John Carter   \n",
      "\n",
      "                                    cleaned_overview  \n",
      "0  in the 22nd century, a paraplegic marine is di...  \n",
      "1  captain barbossa, long believed to be dead, ha...  \n",
      "2  a cryptic message from bond’s past sends him o...  \n",
      "3  following the death of district attorney harve...  \n",
      "4  john carter is a war-weary, former military ca...  \n"
     ]
    }
   ],
   "source": [
    "import pandas as pd\n",
    "\n",
    "# Load datasets\n",
    "movies_df = pd.read_csv(\"tmdb_5000_movies.csv\")\n",
    "credits_df = pd.read_csv(\"tmdb_5000_credits.csv\")\n",
    "\n",
    "# Rename 'movie_id' to 'id' in credits_df\n",
    "credits_df.rename(columns={'movie_id': 'id'}, inplace=True)\n",
    "\n",
    "# Merge datasets\n",
    "movies_df = movies_df.merge(credits_df, on='id', how='inner')\n",
    "\n",
    "# Rename 'title_x' or 'title_y' correctly\n",
    "if 'title_x' in movies_df.columns:\n",
    "    movies_df.rename(columns={'title_x': 'title'}, inplace=True)\n",
    "elif 'title_y' in movies_df.columns:\n",
    "    movies_df.rename(columns={'title_y': 'title'}, inplace=True)\n",
    "\n",
    "# Function to clean text\n",
    "def clean_text(text):\n",
    "    return text.lower() if isinstance(text, str) else \"\"\n",
    "\n",
    "# Apply text cleaning\n",
    "movies_df['cleaned_overview'] = movies_df['overview'].apply(clean_text)\n",
    "\n",
    "# Display first few rows\n",
    "print(movies_df[['title', 'cleaned_overview']].head())\n"
   ]
  },
  {
   "cell_type": "code",
   "execution_count": 24,
   "id": "4f24c122-23ef-42cd-8f71-f061e0c7eba4",
   "metadata": {},
   "outputs": [
    {
     "name": "stdout",
     "output_type": "stream",
     "text": [
      "['Cypher', 'Mission: Impossible - Rogue Nation', 'Stone Cold', 'Central Intelligence', 'Pitch Perfect 2']\n"
     ]
    }
   ],
   "source": [
    "import pandas as pd\n",
    "from sklearn.feature_extraction.text import TfidfVectorizer\n",
    "from sklearn.metrics.pairwise import cosine_similarity\n",
    "import difflib\n",
    "\n",
    "# Load datasets\n",
    "movies_df = pd.read_csv(\"tmdb_5000_movies.csv\")\n",
    "credits_df = pd.read_csv(\"tmdb_5000_credits.csv\")\n",
    "\n",
    "# Rename 'movie_id' to 'id' in credits_df\n",
    "credits_df.rename(columns={'movie_id': 'id'}, inplace=True)\n",
    "\n",
    "# Merge datasets\n",
    "movies_df = movies_df.merge(credits_df, on='id', how='inner')\n",
    "\n",
    "# Fix 'title' column name if needed\n",
    "if 'title_x' in movies_df.columns:\n",
    "    movies_df.rename(columns={'title_x': 'title'}, inplace=True)\n",
    "elif 'title_y' in movies_df.columns:\n",
    "    movies_df.rename(columns={'title_y': 'title'}, inplace=True)\n",
    "\n",
    "# Function to clean text\n",
    "def clean_text(text):\n",
    "    return text.lower() if isinstance(text, str) else \"\"\n",
    "\n",
    "# Apply text cleaning\n",
    "movies_df['cleaned_overview'] = movies_df['overview'].apply(clean_text)\n",
    "\n",
    "# TF-IDF Vectorizer to convert text into numerical form\n",
    "vectorizer = TfidfVectorizer(stop_words='english')\n",
    "movie_vectors = vectorizer.fit_transform(movies_df['cleaned_overview'].fillna(\"\"))  # Handle missing values\n",
    "\n",
    "# Compute cosine similarity\n",
    "cosine_sim = cosine_similarity(movie_vectors, movie_vectors)\n",
    "\n",
    "# Function to recommend similar movies\n",
    "def recommend_movies(movie_title, top_n=5):\n",
    "    if 'title' not in movies_df.columns:\n",
    "        return \"Error: 'title' column not found in dataset.\"\n",
    "\n",
    "    matches = difflib.get_close_matches(movie_title, movies_df['title'].dropna().tolist(), n=1)\n",
    "    if not matches:\n",
    "        return \"Sorry, I couldn't find that movie. Please try another.\"\n",
    "    \n",
    "    movie_index = movies_df[movies_df['title'] == matches[0]].index[0]\n",
    "    similarity_scores = list(enumerate(cosine_sim[movie_index]))\n",
    "    similarity_scores = sorted(similarity_scores, key=lambda x: x[1], reverse=True)[1:top_n+1]\n",
    "    \n",
    "    recommended_movies = [movies_df.iloc[i[0]]['title'] for i in similarity_scores]\n",
    "    return recommended_movies\n",
    "\n",
    "# Test the recommendation function\n",
    "print(recommend_movies(\"Inception\"))\n"
   ]
  },
  {
   "cell_type": "code",
   "execution_count": 26,
   "id": "f77a682b-a289-4ffd-b4f2-7750ed2157e7",
   "metadata": {},
   "outputs": [
    {
     "name": "stdout",
     "output_type": "stream",
     "text": [
      "Christopher Nolan\n"
     ]
    }
   ],
   "source": [
    "import pandas as pd\n",
    "import ast  # To safely convert string to list\n",
    "\n",
    "# Load datasets\n",
    "movies_df = pd.read_csv(\"tmdb_5000_movies.csv\")\n",
    "credits_df = pd.read_csv(\"tmdb_5000_credits.csv\")\n",
    "\n",
    "# Rename 'movie_id' to 'id' in credits_df\n",
    "credits_df.rename(columns={'movie_id': 'id'}, inplace=True)\n",
    "\n",
    "# Merge datasets\n",
    "movies_df = movies_df.merge(credits_df, on='id', how='inner')\n",
    "\n",
    "# Fix 'title' column if needed\n",
    "if 'title_x' in movies_df.columns:\n",
    "    movies_df.rename(columns={'title_x': 'title'}, inplace=True)\n",
    "elif 'title_y' in movies_df.columns:\n",
    "    movies_df.rename(columns={'title_y': 'title'}, inplace=True)\n",
    "\n",
    "movies_df = movies_df.dropna(subset=['title'])\n",
    "\n",
    "movies_df['crew'] = movies_df['crew'].fillna('[]')  \n",
    "def get_director(movie_name):\n",
    "    if 'title' not in movies_df.columns:\n",
    "        return \"Error: 'title' column not found in dataset.\"\n",
    "\n",
    "    match = movies_df[movies_df['title'].str.lower() == movie_name.lower()]\n",
    "    if match.empty:\n",
    "        return \"Sorry, movie not found.\"\n",
    "\n",
    "    try:\n",
    "        crew_list = ast.literal_eval(match.iloc[0]['crew'])  \n",
    "    except (ValueError, SyntaxError):\n",
    "        return \"Error processing crew data.\"\n",
    "\n",
    "    director = [crew['name'] for crew in crew_list if crew.get('job') == 'Director']\n",
    "    return director[0] if director else \"Director information not available.\"\n",
    "\n",
    "# Test the function\n",
    "print(get_director(\"Inception\"))\n"
   ]
  },
  {
   "cell_type": "code",
   "execution_count": 30,
   "id": "30a1e874-92b8-41f4-9371-67f4cf318075",
   "metadata": {},
   "outputs": [
    {
     "name": "stdout",
     "output_type": "stream",
     "text": [
      "Hello! I'm your movie chatbot. Ask me for recommendations or movie details!\n"
     ]
    },
    {
     "name": "stdin",
     "output_type": "stream",
     "text": [
      "You:  Can you recommend a movie?\n",
      "Enter a movie you like:  Inception\n"
     ]
    },
    {
     "name": "stdout",
     "output_type": "stream",
     "text": [
      "Chatbot: You might like these movies: ['Cypher', 'Mission: Impossible - Rogue Nation', 'Stone Cold', 'Central Intelligence', 'Pitch Perfect 2']\n"
     ]
    },
    {
     "name": "stdin",
     "output_type": "stream",
     "text": [
      "You:  Can you recommend a movie?\n",
      "Enter a movie you like:  Annabelle\n"
     ]
    },
    {
     "name": "stdout",
     "output_type": "stream",
     "text": [
      "Chatbot: You might like these movies: ['Fish Tank', 'Loving Annabelle', 'If I Stay', 'The Princess Diaries 2: Royal Engagement', 'The Dress']\n"
     ]
    },
    {
     "name": "stdin",
     "output_type": "stream",
     "text": [
      "You:  exit\n"
     ]
    },
    {
     "name": "stdout",
     "output_type": "stream",
     "text": [
      "Chatbot: Goodbye!\n"
     ]
    }
   ],
   "source": [
    "def movie_chatbot():\n",
    "    print(\"Hello! I'm your movie chatbot. Ask me for recommendations or movie details!\")\n",
    "    while True:\n",
    "        user_input = input(\"You: \").strip().lower()  \n",
    "        \n",
    "        if user_input in ['exit', 'bye', 'quit']:\n",
    "            print(\"Chatbot: Goodbye!\")\n",
    "            break\n",
    "        \n",
    "        elif \"recommend\" in user_input:\n",
    "            movie_name = input(\"Enter a movie you like: \").strip()\n",
    "            recommendations = recommend_movies(movie_name)\n",
    "            print(\"Chatbot: You might like these movies:\", recommendations)\n",
    "        \n",
    "        elif \"who directed\" in user_input:\n",
    "            words = user_input.split()\n",
    "            movie_name = \" \".join(words[words.index(\"directed\") + 1:]) \n",
    "            if movie_name:\n",
    "                director = get_director(movie_name)\n",
    "                print(\"Chatbot:\", director)\n",
    "            else:\n",
    "                print(\"Chatbot: Please specify a movie. Example: 'Who directed Inception?'\")\n",
    "        \n",
    "        else:\n",
    "            print(\"Chatbot: I can recommend movies or provide details. Try asking for a recommendation!\")\n",
    "\n",
    "# Run chatbot\n",
    "movie_chatbot()\n"
   ]
  },
  {
   "cell_type": "code",
   "execution_count": null,
   "id": "2ca82cb2-e9d7-465d-bb8f-bad0221fd9b3",
   "metadata": {},
   "outputs": [],
   "source": []
  }
 ],
 "metadata": {
  "kernelspec": {
   "display_name": "Python [conda env:base] *",
   "language": "python",
   "name": "conda-base-py"
  },
  "language_info": {
   "codemirror_mode": {
    "name": "ipython",
    "version": 3
   },
   "file_extension": ".py",
   "mimetype": "text/x-python",
   "name": "python",
   "nbconvert_exporter": "python",
   "pygments_lexer": "ipython3",
   "version": "3.12.7"
  }
 },
 "nbformat": 4,
 "nbformat_minor": 5
}
